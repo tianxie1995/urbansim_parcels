{
 "cells": [
  {
   "cell_type": "markdown",
   "metadata": {},
   "source": [
    "## SANDAG UrbanSim"
   ]
  },
  {
   "cell_type": "code",
   "execution_count": null,
   "metadata": {
    "collapsed": false
   },
   "outputs": [],
   "source": [
    "import os\n",
    "import orca\n",
    "from urbansim_parcels import models\n",
    "from sd_example import custom_models"
   ]
  },
  {
   "cell_type": "markdown",
   "metadata": {},
   "source": [
    "### Run all models"
   ]
  },
  {
   "cell_type": "code",
   "execution_count": null,
   "metadata": {
    "collapsed": false,
    "scrolled": true
   },
   "outputs": [],
   "source": [
    "orca.run([\"build_networks\"])  # initialize network accessibility engine\n",
    "orca.run([\"scheduled_development_events\",\n",
    "          \"neighborhood_vars\",  # accessibility variables\n",
    "          \"rsh_simulate\",\n",
    "          \"nrh_simulate\",\n",
    "          \"nrh_simulate2\",\n",
    "          \"jobs_transition\",\n",
    "          \"jobs_relocation\",\n",
    "          \"elcm_simulate\",\n",
    "          \"households_transition_basic\",\n",
    "          \"households_relocation\",\n",
    "          \"hlcm_simulate\",  # demand/location models\n",
    "          \"price_vars\",\n",
    "          \"feasibility\",  # supply/proforma models\n",
    "          \"residential_developer\",\n",
    "          \"non_residential_developer\",\n",
    "          \"model_integration_indicators\",\n",
    "          # \"buildings_to_uc\", #export buildings to urban canvas\n",
    "          ], iter_vars=[2013])"
   ]
  }
 ],
 "metadata": {
  "kernelspec": {
   "display_name": "Python 2",
   "language": "python",
   "name": "python2"
  },
  "language_info": {
   "codemirror_mode": {
    "name": "ipython",
    "version": 2.0
   },
   "file_extension": ".py",
   "mimetype": "text/x-python",
   "name": "python",
   "nbconvert_exporter": "python",
   "pygments_lexer": "ipython2",
   "version": "2.7.9"
  }
 },
 "nbformat": 4,
 "nbformat_minor": 0
}